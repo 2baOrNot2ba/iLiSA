{
 "cells": [
  {
   "cell_type": "markdown",
   "metadata": {},
   "source": [
    "# Gain calibration using SVD\n",
    "\n",
    "**T. Carozzi**, *Onsala Space Observatory*"
   ]
  },
  {
   "cell_type": "code",
   "execution_count": 1,
   "metadata": {},
   "outputs": [],
   "source": [
    "\n",
    "import numpy as np\n",
    "import numpy.linalg as la\n",
    "import mpl_toolkits as mpl\n",
    "\n",
    "# Something wrong with path to mpl_toolkits, so hack it:\n",
    "mpl.__path__ = ['/home/tobia/.local/lib/python3.8/site-packages/matplotlib-3.3.1-py3.8-linux-x86_64.egg/mpl_toolkits']\n",
    "%matplotlib qt\n",
    "import matplotlib.pyplot as plt\n",
    "\n",
    "from ilisa.observations.dataIO import *\n",
    "from ilisa.calim.imaging import *\n",
    "from ilisa.calim.imageprocess import *\n",
    "from ilisa.calim.calibration import apply_polgains, gain_cal_bs_lin\n",
    "from ilisa.observations.directions import directionterm2tuple"
   ]
  },
  {
   "cell_type": "markdown",
   "metadata": {},
   "source": [
    "Read in a visibility dataset specifyied by path:"
   ]
  },
  {
   "cell_type": "code",
   "execution_count": 3,
   "metadata": {},
   "outputs": [
    {
     "output_type": "stream",
     "name": "stdout",
     "text": [
      "Reading cvcfile: 20200422_080850_acc_512x192x192.dat\nReading cvcfile: 20200422_081729_acc_512x192x192.dat\n"
     ]
    }
   ],
   "source": [
    "datahome ='/home/tobia/Documents/Data/LOFAR_COPY/'\n",
    "cvcpath_acc = datahome+'proj31/sess_sid20200422T080002_SE607/scan_58961.33361/SE607_20200422_080850_rcu3_dur512_acc/'\n",
    "# 'sess_sid20201117T124331_SE607/scan_59170.53154/SE607_20201117_125349_rcu3_dur512_acc/'\n",
    "# 'proj31/sess_sid20200422T080002_SE607/scan_58961.33361/SE607_20200422_080850_rcu3_dur512_acc/'\n",
    "cvcpath_xst = '/home/tobia/Documents/Data/LOFAR_COPY/xst/scan_59052.40191/20200722_093847_rcu4_sb457_int1_dur3_dir0.,1.5707963267948966,AZELGEO_xst'\n",
    "cvcpath = cvcpath_acc\n",
    "polrep='stokes'\n",
    "calsrc='Cas-A'\n",
    "cvcds=CVCfiles(cvcpath)\n",
    "\n",
    "\n"
   ]
  },
  {
   "cell_type": "code",
   "execution_count": 4,
   "metadata": {},
   "outputs": [],
   "source": [
    "filenr=0\n",
    "cvpol = cvcds.covcube_fb(filenr)\n",
    "\n",
    "sampnr=222 # 195, 222, 299\n",
    "vis=cvpol[:,:,sampnr,:,:]"
   ]
  },
  {
   "cell_type": "markdown",
   "metadata": {},
   "source": [
    "For this selecton, the observational parameters are:"
   ]
  },
  {
   "cell_type": "code",
   "execution_count": 5,
   "metadata": {},
   "outputs": [
    {
     "output_type": "stream",
     "name": "stdout",
     "text": [
      "Time: 2020-04-22 08:04:00 UT, Frequency: 43.359375 MHz, PolarRep: stokes\n"
     ]
    }
   ],
   "source": [
    "t=cvcds.samptimeset[filenr][sampnr]\n",
    "freq=cvcds.freqset[filenr][sampnr]\n",
    "print(\"Time: {} UT, Frequency: {} MHz, PolarRep: {}\".format(t, freq/1e6, polrep))"
   ]
  },
  {
   "cell_type": "markdown",
   "metadata": {},
   "source": [
    "## Looking at the visibilities"
   ]
  },
  {
   "cell_type": "markdown",
   "metadata": {},
   "source": [
    "Make a beamformed image and plot it"
   ]
  },
  {
   "cell_type": "code",
   "execution_count": 6,
   "metadata": {},
   "outputs": [],
   "source": [
    "uvw_zen = calc_uvw(t, directionterm2tuple('Z'), cvcds.stn_pos, cvcds.stn_antpos)\n",
    "imgs_nocal, ll, mm = beamformed_image(vis, uvw_zen.T, freq, use_autocorr=False, polrep=polrep, fluxperbeam=True)\n",
    "plotskyimage(ll, mm, imgs_nocal, polrep, t, freq, cvcds.scanrecinfo.stnid, cvcds.scanrecinfo.get_integration(),phaseref=directionterm2tuple('Z'))"
   ]
  },
  {
   "cell_type": "code",
   "execution_count": 7,
   "metadata": {},
   "outputs": [],
   "source": [
    "from ilisa.calim.robust_cal import robcal"
   ]
  },
  {
   "cell_type": "code",
   "execution_count": 8,
   "metadata": {},
   "outputs": [],
   "source": [
    "ginv_r=robcal(phasedup_vis(vis, calsrc, t, freq, polrep, cvcds.stn_pos, cvcds.stn_antpos))\n",
    "ginv_r0=numpy.ones(ginv_r.shape)\n",
    "vis_cal_r = apply_polgains(ginv_r, vis)"
   ]
  },
  {
   "cell_type": "code",
   "execution_count": 9,
   "metadata": {},
   "outputs": [],
   "source": [
    "imgs_cal_r, ll, mm = beamformed_image(vis_cal_r, uvw_zen.T, freq, use_autocorr=False, polrep=polrep, fluxperbeam=True)\n",
    "plotskyimage(ll,mm, imgs_cal_r, polrep, t, freq, cvcds.scanrecinfo.stnid, cvcds.scanrecinfo.get_integration(),phaseref=directionterm2tuple('Z'),calibrated=True)"
   ]
  },
  {
   "cell_type": "markdown",
   "metadata": {},
   "source": [
    "## Compare with standard cal"
   ]
  },
  {
   "cell_type": "code",
   "execution_count": 10,
   "metadata": {},
   "outputs": [],
   "source": [
    "ginv_s = gain_cal_bs_lin(phasedup_vis(vis, calsrc, t, freq, polrep, cvcds.stn_pos, cvcds.stn_antpos))\n",
    "vis_cal_s = apply_polgains(1/ginv_s, vis)"
   ]
  },
  {
   "cell_type": "code",
   "execution_count": 11,
   "metadata": {},
   "outputs": [],
   "source": [
    "imgs_cal_s, ll, mm = beamformed_image(vis_cal_s, uvw_zen.T, freq, use_autocorr=False, polrep=polrep, fluxperbeam=True)\n",
    "plotskyimage(ll,mm, imgs_cal_s, polrep, t, freq, cvcds.scanrecinfo.stnid, cvcds.scanrecinfo.get_integration(),phaseref=directionterm2tuple('Z'))"
   ]
  },
  {
   "cell_type": "code",
   "execution_count": 12,
   "metadata": {},
   "outputs": [],
   "source": [
    "def xtra_im_noise(img):\n",
    "    from ilisa.calim.imageprocess import split_horizon\n",
    "    a,b,h=split_horizon(img)\n",
    "    return np.std(b)\n",
    "def dyn_rng(img):\n",
    "    noise=xtra_im_noise(img)\n",
    "    return (np.max(img)-np.mean(img))/noise"
   ]
  },
  {
   "cell_type": "code",
   "execution_count": 13,
   "metadata": {},
   "outputs": [
    {
     "output_type": "execute_result",
     "data": {
      "text/plain": [
       "(28.519004864437786, 9.170042554157906)"
      ]
     },
     "metadata": {},
     "execution_count": 13
    }
   ],
   "source": [
    "dyn_rng(imgs_nocal[0]), dynamic_range(imgs_nocal[0])"
   ]
  },
  {
   "cell_type": "code",
   "execution_count": 14,
   "metadata": {},
   "outputs": [
    {
     "output_type": "execute_result",
     "data": {
      "text/plain": [
       "(30.168099448429558, 9.360209950022924)"
      ]
     },
     "metadata": {},
     "execution_count": 14
    }
   ],
   "source": [
    "dyn_rng(imgs_cal_s[0]), dynamic_range(imgs_cal_s[0])"
   ]
  },
  {
   "cell_type": "code",
   "execution_count": 15,
   "metadata": {},
   "outputs": [
    {
     "output_type": "execute_result",
     "data": {
      "text/plain": [
       "(30.16818036169454, 9.36022630396379)"
      ]
     },
     "metadata": {},
     "execution_count": 15
    }
   ],
   "source": [
    "dyn_rng(imgs_cal_r[0]), dynamic_range(imgs_cal_r[0])"
   ]
  },
  {
   "cell_type": "code",
   "execution_count": 16,
   "metadata": {},
   "outputs": [],
   "source": [
    "plt.subplot(131)\n",
    "_=plt.hist(np.ravel(imgs_nocal[0]),100,log=True)\n",
    "plt.subplot(132)\n",
    "_=plt.hist(np.ravel(imgs_cal_s[0]),100,log=True)\n",
    "plt.subplot(133)\n",
    "_=plt.hist(np.ravel(imgs_cal_r[0]),100,log=True)\n"
   ]
  },
  {
   "cell_type": "code",
   "execution_count": null,
   "metadata": {},
   "outputs": [],
   "source": []
  }
 ],
 "metadata": {
  "kernelspec": {
   "display_name": "Python 3.8.5 64-bit",
   "language": "python",
   "name": "python38564bitd2f655915ae04c4ba727b288bc437fc1"
  },
  "language_info": {
   "codemirror_mode": {
    "name": "ipython",
    "version": 3
   },
   "file_extension": ".py",
   "mimetype": "text/x-python",
   "name": "python",
   "nbconvert_exporter": "python",
   "pygments_lexer": "ipython3",
   "version": "3.8.5-final"
  }
 },
 "nbformat": 4,
 "nbformat_minor": 2
}